{
 "cells": [
  {
   "cell_type": "markdown",
   "metadata": {},
   "source": [
    "- 회귀의 경우 오차를 기반으로 MSE, MAE, RMSE, R^ 등으로 간단히 계산 할 수 있다\n",
    "- 분류의 경우 정확도(Accuracy) 외에도 여러가지 지표로 판단이 필요하고, target 의 class 가 Binary or Multi 인지에 따라서도 사용하는 지표가 달라지게된다. "
   ]
  },
  {
   "cell_type": "code",
   "execution_count": 58,
   "metadata": {},
   "outputs": [],
   "source": [
    "import pandas as pd\n",
    "import numpy as np\n",
    "from sklearn.datasets import load_breast_cancer\n",
    "from sklearn.preprocessing import StandardScaler, Binarizer\n",
    "from sklearn.model_selection import train_test_split\n",
    "\n",
    "data = load_breast_cancer()\n",
    "X = data.data\n",
    "y = data.target\n",
    "\n",
    "# 훈련 데이터와 테스트 데이터 분할\n",
    "x_train, x_test, y_train, y_test = train_test_split(X, y, test_size=0.2, random_state=42)"
   ]
  },
  {
   "cell_type": "markdown",
   "metadata": {},
   "source": [
    "1. 정확도 (Accuracy) "
   ]
  },
  {
   "cell_type": "markdown",
   "metadata": {},
   "source": [
    "2. 오차행렬 (Confusion-Matrix) - 정확도, 정밀도, 재현율, F1 Score\n",
    "- Precision(정밀도)은 T 라고 예측했는데 실제 T 인경우. = 1 - α (Type-Ⅰ error). False alarm 을 줄이는것이 정밀도를 올리는 것. \n",
    "- Recall(재현율) = Sensitivity(민감도). 실제 T 인데 T 라고 예측한 경우. 1 - β (Type-Ⅱ erroe). \n",
    "- Precision 과 Recall 은 trade-off 관계. T(예를들어 고장,이상,인터락)을 적극적으로 예측할수록 Recall 좋고, 소극적으로 예측할수록 Precision 좋고. \n",
    "- F1 Score 는 Precision 과 Recall 의 조화 평균. 1에 가까울수록 균형이 잘잡힌 것. \n",
    "\n",
    "<img src=\"confusion_matrix.png\" alt=\"Confusion Matrix\" width=\"600\">"
   ]
  },
  {
   "cell_type": "code",
   "execution_count": 59,
   "metadata": {},
   "outputs": [],
   "source": [
    "from sklearn.metrics import accuracy_score, precision_score, recall_score, f1_score, confusion_matrix, precision_recall_curve"
   ]
  },
  {
   "cell_type": "markdown",
   "metadata": {},
   "source": [
    "3. 임계값(Threshold) \n",
    "- 지금까지 평가 지표는 P/N 의 결과값 기반으로 이루어졌다. 그런데 그 이전에, P/N 의 판단은 사실 특정한 임계값(Threshold)를 기준으로  판단된다. \n",
    "- 즉 predict 라는 API 는, 사실 predict_proba() 라는 예측 레이블(P/N) 각각의 확률을 반환해주는 API 에서 파생되었고 predict_proba 의 확률값을 가지고 P/N 을 판단하는 기준이 Threshold 로 디폴트는 50% 이지만 조정할 수 있다. "
   ]
  },
  {
   "cell_type": "code",
   "execution_count": 60,
   "metadata": {},
   "outputs": [
    {
     "name": "stdout",
     "output_type": "stream",
     "text": [
      "(114,) (114, 2)\n",
      "[1 0 0]\n",
      "[[1.39288194e-01 8.60711806e-01]\n",
      " [9.99999999e-01 9.41778779e-10]\n",
      " [9.98811652e-01 1.18834761e-03]]\n",
      "1.0\n"
     ]
    },
    {
     "name": "stderr",
     "output_type": "stream",
     "text": [
      "c:\\Users\\bmseo\\anaconda3\\lib\\site-packages\\sklearn\\linear_model\\_logistic.py:458: ConvergenceWarning: lbfgs failed to converge (status=1):\n",
      "STOP: TOTAL NO. of ITERATIONS REACHED LIMIT.\n",
      "\n",
      "Increase the number of iterations (max_iter) or scale the data as shown in:\n",
      "    https://scikit-learn.org/stable/modules/preprocessing.html\n",
      "Please also refer to the documentation for alternative solver options:\n",
      "    https://scikit-learn.org/stable/modules/linear_model.html#logistic-regression\n",
      "  n_iter_i = _check_optimize_result(\n"
     ]
    }
   ],
   "source": [
    "from sklearn.linear_model import LogisticRegression\n",
    "lr_clf = LogisticRegression()\n",
    "lr_clf.fit(x_train, y_train)\n",
    "\n",
    "pred = lr_clf.predict(x_test)\n",
    "pred_proba = lr_clf.predict_proba(x_test)\n",
    "print(pred.shape, pred_proba.shape)\n",
    "print(pred[:3], pred_proba[:3], sep='\\n')\n",
    "print(pred_proba[1].sum())"
   ]
  },
  {
   "cell_type": "code",
   "execution_count": 61,
   "metadata": {},
   "outputs": [
    {
     "name": "stdout",
     "output_type": "stream",
     "text": [
      "[[0.14 0.86 1.  ]\n",
      " [1.   0.   0.  ]\n",
      " [1.   0.   0.  ]]\n"
     ]
    }
   ],
   "source": [
    "# 예측확률과 결과값 한눈에 보기\n",
    "pred_proba_result = np.concatenate([np.round(pred_proba,2),pred.reshape(-1,1)],axis=1)\n",
    "print(pred_proba_result[:3])"
   ]
  },
  {
   "cell_type": "code",
   "execution_count": 62,
   "metadata": {},
   "outputs": [
    {
     "name": "stdout",
     "output_type": "stream",
     "text": [
      "임계값: 0.4\n",
      "정확도: 0.9561, 정밀도: 0.9459, 재현율: 0.9859, F1 Score: 0.9655\n",
      "임계값: 0.45\n",
      "정확도: 0.9561, 정밀도: 0.9459, 재현율: 0.9859, F1 Score: 0.9655\n",
      "임계값: 0.5\n",
      "정확도: 0.9561, 정밀도: 0.9459, 재현율: 0.9859, F1 Score: 0.9655\n",
      "임계값: 0.55\n",
      "정확도: 0.9649, 정밀도: 0.9589, 재현율: 0.9859, F1 Score: 0.9722\n",
      "임계값: 0.6\n",
      "정확도: 0.9649, 정밀도: 0.9589, 재현율: 0.9859, F1 Score: 0.9722\n"
     ]
    }
   ],
   "source": [
    "# 임계값을 조절해가면서 평가하는 코드. \n",
    "thresholds = [0.4,0.45,0.5,0.55,0.6]\n",
    "\n",
    "def get_clf_eval(y_test, pred):\n",
    "    accuracy = accuracy_score(y_test, pred)\n",
    "    precision = precision_score(y_test, pred)\n",
    "    recall = recall_score(y_test, pred)\n",
    "    f1 = f1_score(y_test, pred)    \n",
    "    print(f'정확도: {accuracy:.4f}, 정밀도: {precision:.4f}, 재현율: {recall:.4f}, F1 Score: {f1:.4f}')\n",
    "\n",
    "def get_eval_by_threshold(y_test,pred_proba_c1,thresholds):\n",
    "    for custom_threshold in thresholds:\n",
    "        bz = Binarizer(threshold=custom_threshold).fit(pred_proba_c1)\n",
    "        custom_predict = bz.transform(pred_proba_c1)\n",
    "        print('임계값:',custom_threshold)\n",
    "        get_clf_eval(y_test,custom_predict)  # 정밀도, 정확도, 오차행렬 등 지표 반환하는 사용자 함수\n",
    "\n",
    "pred_proba_class1 = pred_proba[:,1].reshape(-1,1)\n",
    "       \n",
    "get_eval_by_threshold(y_test,pred_proba_class1,thresholds)"
   ]
  },
  {
   "cell_type": "markdown",
   "metadata": {},
   "source": [
    "4. ROC Curve 와 AUC 스코어 \n",
    "- ROC 커브는 x축이 FPR : 실제 Negative 인데 Positive 라고 잘못예측할 확률, y축이 TPR(재현율) 실제 Positive 인데 Positive라고 잘 예측할 확률.\n",
    "- 즉, Negative 일때도 잘맞추면서 (x가 작을때) Positive 일때도 잘맞추는 (y가 클때) 커브가 나오는 커브가 좋은 커브이고, 이때의 커브 밑 면적을 AUC (Area Under Curve) 라고 하며, AUC 가 1에 가까울 수록 좋은 모델이다. \n",
    "- x 축, 즉 FPR 을 조정하는 방법은 임계값을 낮출수록 Positive 라고 하기쉽기 때문에 FPR도 올라간다. \n",
    "\n",
    "<img src=\"AUC.png\" alt=\"ROC curve & AUC score\" width=\"600\">"
   ]
  },
  {
   "cell_type": "code",
   "execution_count": 63,
   "metadata": {},
   "outputs": [
    {
     "data": {
      "text/plain": [
       "array([1, 0, 0, 1, 1, 0, 0, 0, 1, 1, 1, 0, 1, 0, 1, 0, 1, 1, 1, 0, 0, 1,\n",
       "       0, 1, 1, 1, 1, 1, 1, 0, 1, 1, 1, 1, 1, 1, 0, 1, 0, 1, 1, 0, 1, 1,\n",
       "       1, 1, 1, 1, 1, 1, 0, 0, 1, 1, 1, 1, 1, 0, 0, 1, 1, 0, 0, 1, 1, 1,\n",
       "       0, 0, 1, 1, 0, 0, 1, 0, 1, 1, 1, 0, 1, 1, 0, 1, 0, 0, 0, 0, 0, 0,\n",
       "       1, 1, 1, 1, 1, 1, 1, 1, 0, 0, 1, 0, 0, 1, 0, 0, 1, 1, 1, 0, 1, 1,\n",
       "       0, 1, 1, 0])"
      ]
     },
     "execution_count": 63,
     "metadata": {},
     "output_type": "execute_result"
    }
   ],
   "source": [
    "y_test"
   ]
  },
  {
   "cell_type": "code",
   "execution_count": 64,
   "metadata": {},
   "outputs": [
    {
     "name": "stdout",
     "output_type": "stream",
     "text": [
      "[1 2 3 4 5]\n",
      "5-step으로 뽑은 샘플 임계값: [1.   0.85 0.53 0.29 0.  ]\n",
      "샘플 임계값별 FPR: [0.   0.   0.09 0.09 1.  ]\n",
      "샘플 임계값별 TPR: [0.01 0.99 0.99 1.   1.  ]\n"
     ]
    }
   ],
   "source": [
    "from sklearn.metrics import roc_curve\n",
    "\n",
    "#roc_curve : 실제클래스값과, Positive 의 확률을 입력파라미터로,, fpr/tpr/임계값 3가지를 반환\n",
    "fprs, tprs, thresholds = roc_curve(y_test,pred_proba_class1)\n",
    "#thresholds[0] 값은 max(예측확률)+1 로 임의 설정됨\n",
    "thr_index = np.arange(1,thresholds.shape[0],1)\n",
    "print(thr_index)\n",
    "\n",
    "print('5-step으로 뽑은 샘플 임계값:',np.round(thresholds[thr_index],2))\n",
    "print('샘플 임계값별 FPR:',np.round(fprs[thr_index],2))\n",
    "print('샘플 임계값별 TPR:',np.round(tprs[thr_index],2))"
   ]
  },
  {
   "cell_type": "code",
   "execution_count": 65,
   "metadata": {},
   "outputs": [
    {
     "name": "stdout",
     "output_type": "stream",
     "text": [
      "AUC값: 0.9986898132983951\n"
     ]
    },
    {
     "data": {
      "image/png": "[encoded data removed]",
      "text/plain": [
       "<Figure size 600x300 with 1 Axes>"
      ]
     },
     "metadata": {},
     "output_type": "display_data"
    }
   ],
   "source": [
    "import matplotlib.pyplot as plt\n",
    "\n",
    "# ROC 커브 그리기\n",
    "def roc_curve_plot(y_test,pred_proba_c1):\n",
    "    fprs, tprs, thresholds = roc_curve(y_test,pred_proba_c1)\n",
    "    plt.figure(figsize=(6,3))\n",
    "    plt.plot(fprs,tprs, label='ROC')\n",
    "    plt.plot([0,1],[0,1],'k--',label='Random')\n",
    "    start,end = plt.xlim()\n",
    "    plt.xticks(np.round(np.arange(start,end,0.1),2))\n",
    "    plt.xlim(0,1);plt.ylim(0,1)\n",
    "    plt.xlabel('FPR');plt.ylabel('TPR')\n",
    "    plt.legend()\n",
    "   \n",
    "roc_curve_plot(y_test,pred_proba_class1)\n",
    "# AUC 계산하기\n",
    "from sklearn.metrics import roc_auc_score\n",
    "roc_score = roc_auc_score(y_test,pred_proba_class1)\n",
    "print('AUC값:',roc_score)"
   ]
  }
 ],
 "metadata": {
  "kernelspec": {
   "display_name": "base",
   "language": "python",
   "name": "python3"
  },
  "language_info": {
   "codemirror_mode": {
    "name": "ipython",
    "version": 3
   },
   "file_extension": ".py",
   "mimetype": "text/x-python",
   "name": "python",
   "nbconvert_exporter": "python",
   "pygments_lexer": "ipython3",
   "version": "3.10.9"
  }
 },
 "nbformat": 4,
 "nbformat_minor": 2
}
